{
  "metadata": {
    "kernelspec": {
      "name": "python",
      "display_name": "Python (Pyodide)",
      "language": "python"
    },
    "language_info": {
      "codemirror_mode": {
        "name": "python",
        "version": 3
      },
      "file_extension": ".py",
      "mimetype": "text/x-python",
      "name": "python",
      "nbconvert_exporter": "python",
      "pygments_lexer": "ipython3",
      "version": "3.8"
    }
  },
  "nbformat_minor": 4,
  "nbformat": 4,
  "cells": [
    {
      "cell_type": "markdown",
      "source": "# Data Science Tools and Ecosystem",
      "metadata": {}
    },
    {
      "cell_type": "markdown",
      "source": "In this notebook, Data Science Tools and Ecosystem are summarized.",
      "metadata": {}
    },
    {
      "cell_type": "code",
      "source": "",
      "metadata": {
        "trusted": true
      },
      "outputs": [],
      "execution_count": null
    },
    {
      "cell_type": "markdown",
      "source": "Some of the popular languages that Data Scientists use are:\r\n\r\n1. **Python:** Widely adopted for its simplicity, versatility, and extensive libraries like NumPy, Pandas, and Scikit-learn.\r\n\r\n2. **R:** Known for its statistical and data analysis capabilities, R is commonly used in academia and research settings.\r\n\r\n3. **SQL:** Essential for working with relational databases, SQL is crucial for querying, managing, and analyzing structured data.\r\n\r\n4. **Julia:** Gaining popularity for its speed and performance, Julia is used for high-performance numerical and scientific computing.\r\n\r\n5. **Scala:** Often employed in big data processing frameworks like Apache Spark, Scala is a scalable and functional programming language.\r\n\r\nThese languages offer diverse capabilities and are chosen based on specific requirements and preferences in the data science community.",
      "metadata": {}
    },
    {
      "cell_type": "markdown",
      "source": "Some of the commonly used libraries by Data Scientists include:\n\n1. **NumPy:** A powerful library for numerical computing in Python, providing support for large, multi-dimensional arrays and matrices, along with mathematical functions.\n\n2. **Pandas:** A data manipulation and analysis library for Python, offering data structures like DataFrame for efficient data cleaning, exploration, and transformation.\n\n3. **Scikit-learn:** A machine learning library for Python that provides simple and efficient tools for data mining and data analysis. It includes various algorithms for classification, regression, clustering, and more.\n\n4. **Matplotlib:** A widely used 2D plotting library in Python for creating static, animated, and interactive visualizations in Python.\n\n5. **Seaborn:** Built on top of Matplotlib, Seaborn is a statistical data visualization library that makes it easy to generate informative and attractive visualizations.\n",
      "metadata": {}
    },
    {
      "cell_type": "markdown",
      "source": "| Development Environment Tools |\r\n| ----------------------------- |\r\n| Jupyter Notebook              |\r\n| RStudio                       |\r\n| VSCode (Visual Studio Code)   |",
      "metadata": {}
    },
    {
      "cell_type": "markdown",
      "source": "### Below are a few examples of evaluating arithmetic expressions in Python",
      "metadata": {}
    },
    {
      "cell_type": "code",
      "source": "# This is a simple arithmetic expression to multiply then add integers.\nresult = (3 * 4) + 5\nresult",
      "metadata": {
        "trusted": true
      },
      "outputs": [
        {
          "execution_count": 2,
          "output_type": "execute_result",
          "data": {
            "text/plain": "17"
          },
          "metadata": {}
        }
      ],
      "execution_count": 2
    },
    {
      "cell_type": "code",
      "source": "# This will convert 200 minutes to hours by diving by 60\nhours = 200 / 60\nhours",
      "metadata": {
        "trusted": true
      },
      "outputs": [
        {
          "execution_count": 3,
          "output_type": "execute_result",
          "data": {
            "text/plain": "3.3333333333333335"
          },
          "metadata": {}
        }
      ],
      "execution_count": 3
    },
    {
      "cell_type": "markdown",
      "source": "**Objectives:**\n\n* List popular languages that Data Scientists use\n* List commonly used libraries used by Data Scientists\n* List Data Science tools",
      "metadata": {}
    },
    {
      "cell_type": "markdown",
      "source": "## Author\nBao Tran Tong",
      "metadata": {}
    },
    {
      "cell_type": "code",
      "source": "",
      "metadata": {
        "trusted": true
      },
      "outputs": [],
      "execution_count": null
    }
  ]
}